{
 "cells": [
  {
   "cell_type": "code",
   "execution_count": 1,
   "metadata": {},
   "outputs": [],
   "source": [
    "# coding:utf-8\n",
    "from __future__ import print_function\n",
    "import math\n",
    "import numpy as np\n",
    "#import scipy.linalg\n",
    "import scipy.sparse\n",
    "import scipy.sparse.linalg\n",
    "import argparse\n",
    "import time\n"
   ]
  },
  {
   "cell_type": "code",
   "execution_count": 2,
   "metadata": {},
   "outputs": [],
   "source": [
    "def snoob(x):\n",
    "    next = 0\n",
    "    if(x>0):\n",
    "        smallest = x & -(x)\n",
    "        ripple = x + smallest\n",
    "        ones = x ^ ripple\n",
    "        ones = (ones >> 2) // smallest\n",
    "        next = ripple | ones\n",
    "    return next\n"
   ]
  },
  {
   "cell_type": "code",
   "execution_count": 3,
   "metadata": {},
   "outputs": [],
   "source": [
    "def binomial(n,r):\n",
    "    return math.factorial(n) // (math.factorial(n - r) * math.factorial(r))\n"
   ]
  },
  {
   "cell_type": "code",
   "execution_count": 4,
   "metadata": {},
   "outputs": [],
   "source": [
    "def count_bit(n):\n",
    "    count = 0\n",
    "    while (n): \n",
    "        count += n & 1\n",
    "        n >>= 1\n",
    "    return count \n"
   ]
  },
  {
   "cell_type": "code",
   "execution_count": 5,
   "metadata": {},
   "outputs": [],
   "source": [
    "def init_parameters(N,Sz):\n",
    "    Nup = N//2 + Sz\n",
    "    Nhilbert = binomial(N,Nup)\n",
    "    ihfbit = 1 << (N//2)\n",
    "    irght = ihfbit-1\n",
    "    ilft = ((1<<N)-1) ^ irght\n",
    "    iup = (1<<(N-Nup))-1\n",
    "    return Nup, Nhilbert, ihfbit, irght, ilft, iup\n"
   ]
  },
  {
   "cell_type": "code",
   "execution_count": 6,
   "metadata": {},
   "outputs": [],
   "source": [
    "def make_list(N,Nup,Nhilbert,ihfbit,irght,ilft,iup):\n",
    "    list_1 = np.zeros(Nhilbert,dtype=int)\n",
    "    list_ja = np.zeros(ihfbit,dtype=int)\n",
    "    list_jb = np.zeros(ihfbit,dtype=int)\n",
    "    ii = iup\n",
    "    ja = 0\n",
    "    jb = 0\n",
    "    ia_old = ii & irght\n",
    "    ib_old = (ii & ilft) // ihfbit\n",
    "    list_1[0] = ii\n",
    "    list_ja[ia_old] = ja\n",
    "    list_jb[ib_old] = jb\n",
    "    ii = snoob(ii)\n",
    "    for i in range(1,Nhilbert):\n",
    "        ia = ii & irght\n",
    "        ib = (ii & ilft) // ihfbit\n",
    "        if (ib == ib_old):\n",
    "            ja += 1\n",
    "        else:\n",
    "            jb += ja+1\n",
    "            ja = 0\n",
    "        list_1[i] = ii\n",
    "        list_ja[ia] = ja\n",
    "        list_jb[ib] = jb\n",
    "        ia_old = ia\n",
    "        ib_old = ib\n",
    "        ii = snoob(ii)\n",
    "    return list_1, list_ja, list_jb\n"
   ]
  },
  {
   "cell_type": "code",
   "execution_count": 7,
   "metadata": {},
   "outputs": [],
   "source": [
    "def get_ja_plus_jb(ii,irght,ilft,ihfbit,list_ja,list_jb):\n",
    "    ia = ii & irght\n",
    "    ib = (ii & ilft) // ihfbit\n",
    "    ja = list_ja[ia]\n",
    "    jb = list_jb[ib]\n",
    "    return ja+jb\n"
   ]
  },
  {
   "cell_type": "code",
   "execution_count": 8,
   "metadata": {},
   "outputs": [],
   "source": [
    "def make_hamiltonian(J1,D1,N,Nhilbert,irght,ilft,ihfbit,list_1,list_ja,list_jb):\n",
    "    listki = np.zeros((N+1)*Nhilbert,dtype=int)\n",
    "    loc = np.zeros((N+1)*Nhilbert,dtype=int)\n",
    "    elemnt = np.zeros((N+1)*Nhilbert,dtype=float)\n",
    "    listki = [i for k in range(N+1) for i in range(Nhilbert)]\n",
    "    for k in range(N):\n",
    "        isite1 = k\n",
    "        isite2 = (k+1)%N\n",
    "        is1 = 1<<isite1\n",
    "        is2 = 1<<isite2\n",
    "        is0 = is1 + is2\n",
    "        wght = -2.0*J1[k]\n",
    "        diag = wght*0.5*D1[k]\n",
    "        for i in range(Nhilbert):\n",
    "            ii = list_1[i]\n",
    "            ibit = ii & is0\n",
    "            if (ibit==0 or ibit==is0):\n",
    "                elemnt[N*Nhilbert+i] -= diag\n",
    "                loc[N*Nhilbert+i] = i\n",
    "            else:\n",
    "                elemnt[N*Nhilbert+i] += diag\n",
    "                loc[N*Nhilbert+i] = i\n",
    "                iexchg = ii ^ is0\n",
    "                newcfg = get_ja_plus_jb(iexchg,irght,ilft,ihfbit,list_ja,list_jb)\n",
    "                elemnt[k*Nhilbert+i] = -wght\n",
    "                loc[k*Nhilbert+i] = newcfg\n",
    "    HamCSR = scipy.sparse.csr_matrix((elemnt,(listki,loc)),shape=(Nhilbert,Nhilbert))\n",
    "    return HamCSR\n"
   ]
  },
  {
   "cell_type": "code",
   "execution_count": 9,
   "metadata": {},
   "outputs": [
    {
     "name": "stdout",
     "output_type": "stream",
     "text": [
      "N= 14\n",
      "Sz= 0\n",
      "Nup= 7\n",
      "Nhilbert= 3432\n",
      "ihfbit= 128\n",
      "irght,binirght= 127 00000001111111\n",
      "ilft,binilft= 16256 11111110000000\n",
      "iup,biniup= 127 00000001111111\n",
      "0.0073230266571\n"
     ]
    }
   ],
   "source": [
    "N = 14 # should be N>=4\n",
    "Sz = 0\n",
    "\n",
    "Nup, Nhilbert, ihfbit, irght, ilft, iup = init_parameters(N,Sz)\n",
    "\n",
    "binirght = np.binary_repr(irght,width=N)\n",
    "binilft = np.binary_repr(ilft,width=N)\n",
    "biniup = np.binary_repr(iup,width=N)\n",
    "\n",
    "print(\"N=\",N)\n",
    "print(\"Sz=\",Sz)\n",
    "print(\"Nup=\",Nup)\n",
    "print(\"Nhilbert=\",Nhilbert)\n",
    "print(\"ihfbit=\",ihfbit)\n",
    "print(\"irght,binirght=\",irght,binirght)\n",
    "print(\"ilft,binilft=\",ilft,binilft)\n",
    "print(\"iup,biniup=\",iup,biniup)\n",
    "\n",
    "start = time.time()\n",
    "list_1, list_ja, list_jb = make_list(N,Nup,Nhilbert,ihfbit,irght,ilft,iup)\n",
    "end = time.time()\n",
    "print (end - start)\n",
    "\n",
    "#print(\"list_1=\",list_1)\n",
    "#print(\"list_ja=\",list_ja)\n",
    "#print(\"list_jb=\",list_jb)\n",
    "\n",
    "#print(\"\")\n",
    "#print(\"i ii binii ja+jb\")\n",
    "#for i in range(Nhilbert):\n",
    "#    ii = list_1[i]\n",
    "#    binii = np.binary_repr(ii,width=N)\n",
    "#    ind = get_ja_plus_jb(ii,irght,ilft,ihfbit,list_ja,list_jb)\n",
    "#    print(i,ii,binii,ind)\n"
   ]
  },
  {
   "cell_type": "code",
   "execution_count": 10,
   "metadata": {},
   "outputs": [
    {
     "name": "stdout",
     "output_type": "stream",
     "text": [
      "0.104294776917\n",
      "0.0240948200226\n",
      "# energy: -25.054198134188134 -23.825775295914475 -22.992250690759324 -22.234251332471885 -22.234251332471835\n"
     ]
    }
   ],
   "source": [
    "J1 = np.ones(N,dtype=float) # J_{ij}>0: AF\n",
    "D1 = np.ones(N,dtype=float) # D_{ij}>0: AF\n",
    "\n",
    "start = time.time()\n",
    "HamCSR = make_hamiltonian(J1,D1,N,Nhilbert,irght,ilft,ihfbit,list_1,list_ja,list_jb)\n",
    "end = time.time()\n",
    "print (end - start)\n",
    "#print (HamCSR)\n",
    "\n",
    "start = time.time()\n",
    "ene,vec = scipy.sparse.linalg.eigsh(HamCSR,k=5)\n",
    "end = time.time()\n",
    "print (end - start)\n",
    "\n",
    "#print (\"# GS energy:\",ene[0])\n",
    "print (\"# energy:\",ene[0],ene[1],ene[2],ene[3],ene[4])\n",
    "#vec_sgn = np.sign(np.amax(vec[:,0]))\n",
    "#print (\"# GS wave function:\")\n",
    "#for i in range (Nhilbert):\n",
    "#    ii = list_1[i]\n",
    "#    binii = np.binary_repr(ii,width=N)\n",
    "#    print (i,vec[i,0]*vec_sgn,binii)\n"
   ]
  },
  {
   "cell_type": "code",
   "execution_count": null,
   "metadata": {},
   "outputs": [],
   "source": []
  }
 ],
 "metadata": {
  "kernelspec": {
   "display_name": "Python 2",
   "language": "python",
   "name": "python2"
  },
  "language_info": {
   "codemirror_mode": {
    "name": "ipython",
    "version": 2
   },
   "file_extension": ".py",
   "mimetype": "text/x-python",
   "name": "python",
   "nbconvert_exporter": "python",
   "pygments_lexer": "ipython2",
   "version": "2.7.16"
  }
 },
 "nbformat": 4,
 "nbformat_minor": 2
}
